{
 "cells": [
  {
   "cell_type": "code",
   "execution_count": 40,
   "metadata": {},
   "outputs": [
    {
     "data": {
      "text/html": [
       "<div>\n",
       "<style scoped>\n",
       "    .dataframe tbody tr th:only-of-type {\n",
       "        vertical-align: middle;\n",
       "    }\n",
       "\n",
       "    .dataframe tbody tr th {\n",
       "        vertical-align: top;\n",
       "    }\n",
       "\n",
       "    .dataframe thead th {\n",
       "        text-align: right;\n",
       "    }\n",
       "</style>\n",
       "<table border=\"1\" class=\"dataframe\">\n",
       "  <thead>\n",
       "    <tr style=\"text-align: right;\">\n",
       "      <th></th>\n",
       "      <th>screen_name</th>\n",
       "      <th>text</th>\n",
       "      <th>favorite_count</th>\n",
       "      <th>retweet_count</th>\n",
       "      <th>lang</th>\n",
       "      <th>created_at</th>\n",
       "      <th>coordinates</th>\n",
       "    </tr>\n",
       "  </thead>\n",
       "  <tbody>\n",
       "    <tr>\n",
       "      <th>0</th>\n",
       "      <td>Trufflesicious</td>\n",
       "      <td>@XxM0hawkPuppyXx @Moorlands2 Many thanks for t...</td>\n",
       "      <td>0</td>\n",
       "      <td>0</td>\n",
       "      <td>en</td>\n",
       "      <td>Wed Apr 26 13:30:50 +0000 2017</td>\n",
       "      <td>NaN</td>\n",
       "    </tr>\n",
       "    <tr>\n",
       "      <th>1</th>\n",
       "      <td>minaguli</td>\n",
       "      <td>MILESTONE: Only 200km left to go! \\n#Run4Water...</td>\n",
       "      <td>0</td>\n",
       "      <td>0</td>\n",
       "      <td>en</td>\n",
       "      <td>Wed Apr 26 13:30:57 +0000 2017</td>\n",
       "      <td>NaN</td>\n",
       "    </tr>\n",
       "    <tr>\n",
       "      <th>2</th>\n",
       "      <td>mhairi_stella</td>\n",
       "      <td>🌼🌼🌼 spotted out &amp;amp; about massive Daisy's, s...</td>\n",
       "      <td>0</td>\n",
       "      <td>0</td>\n",
       "      <td>en</td>\n",
       "      <td>Wed Apr 26 13:31:00 +0000 2017</td>\n",
       "      <td>Row(coordinates=[-0.41666667, 51.25], type='Po...</td>\n",
       "    </tr>\n",
       "    <tr>\n",
       "      <th>3</th>\n",
       "      <td>harry_chitty</td>\n",
       "      <td>I wonder what the next Lib Dem PR disaster wil...</td>\n",
       "      <td>0</td>\n",
       "      <td>0</td>\n",
       "      <td>en</td>\n",
       "      <td>Wed Apr 26 13:31:00 +0000 2017</td>\n",
       "      <td>NaN</td>\n",
       "    </tr>\n",
       "    <tr>\n",
       "      <th>4</th>\n",
       "      <td>ElRayy07</td>\n",
       "      <td>Backseat, spacious. I pulled up, spaceship 🚀</td>\n",
       "      <td>0</td>\n",
       "      <td>0</td>\n",
       "      <td>en</td>\n",
       "      <td>Wed Apr 26 13:31:01 +0000 2017</td>\n",
       "      <td>NaN</td>\n",
       "    </tr>\n",
       "    <tr>\n",
       "      <th>...</th>\n",
       "      <td>...</td>\n",
       "      <td>...</td>\n",
       "      <td>...</td>\n",
       "      <td>...</td>\n",
       "      <td>...</td>\n",
       "      <td>...</td>\n",
       "      <td>...</td>\n",
       "    </tr>\n",
       "    <tr>\n",
       "      <th>41826</th>\n",
       "      <td>CNSmet</td>\n",
       "      <td>06:57 CEST: Temp -0.5°C. Humidity 99%. Pressur...</td>\n",
       "      <td>0</td>\n",
       "      <td>0</td>\n",
       "      <td>en</td>\n",
       "      <td>Sat Apr 29 05:00:37 +0000 2017</td>\n",
       "      <td>Row(coordinates=[-1.591, 47.98], type='Point')</td>\n",
       "    </tr>\n",
       "    <tr>\n",
       "      <th>41827</th>\n",
       "      <td>krakuetta</td>\n",
       "      <td>@KevBulger4real @NintendoAmerica @dkvine I'm a...</td>\n",
       "      <td>0</td>\n",
       "      <td>0</td>\n",
       "      <td>en</td>\n",
       "      <td>Sat Apr 29 05:00:47 +0000 2017</td>\n",
       "      <td>NaN</td>\n",
       "    </tr>\n",
       "    <tr>\n",
       "      <th>41828</th>\n",
       "      <td>thommygunn</td>\n",
       "      <td>Holy coco beans, @TayZonday just followed me #...</td>\n",
       "      <td>0</td>\n",
       "      <td>0</td>\n",
       "      <td>en</td>\n",
       "      <td>Sat Apr 29 05:01:03 +0000 2017</td>\n",
       "      <td>NaN</td>\n",
       "    </tr>\n",
       "    <tr>\n",
       "      <th>41829</th>\n",
       "      <td>panoramascinema</td>\n",
       "      <td>@whattheshot District 9</td>\n",
       "      <td>0</td>\n",
       "      <td>0</td>\n",
       "      <td>en</td>\n",
       "      <td>Sat Apr 29 05:01:42 +0000 2017</td>\n",
       "      <td>NaN</td>\n",
       "    </tr>\n",
       "    <tr>\n",
       "      <th>41830</th>\n",
       "      <td>tooptoop</td>\n",
       "      <td>happy birthday @tsugimag 🎂 #10ans @laurentgarn...</td>\n",
       "      <td>0</td>\n",
       "      <td>0</td>\n",
       "      <td>en</td>\n",
       "      <td>Sat Apr 29 05:01:54 +0000 2017</td>\n",
       "      <td>Row(coordinates=[2.393893, 48.892578], type='P...</td>\n",
       "    </tr>\n",
       "  </tbody>\n",
       "</table>\n",
       "<p>41831 rows × 7 columns</p>\n",
       "</div>"
      ],
      "text/plain": [
       "           screen_name                                               text  \\\n",
       "0       Trufflesicious  @XxM0hawkPuppyXx @Moorlands2 Many thanks for t...   \n",
       "1             minaguli  MILESTONE: Only 200km left to go! \\n#Run4Water...   \n",
       "2        mhairi_stella  🌼🌼🌼 spotted out &amp; about massive Daisy's, s...   \n",
       "3         harry_chitty  I wonder what the next Lib Dem PR disaster wil...   \n",
       "4             ElRayy07       Backseat, spacious. I pulled up, spaceship 🚀   \n",
       "...                ...                                                ...   \n",
       "41826           CNSmet  06:57 CEST: Temp -0.5°C. Humidity 99%. Pressur...   \n",
       "41827        krakuetta  @KevBulger4real @NintendoAmerica @dkvine I'm a...   \n",
       "41828       thommygunn  Holy coco beans, @TayZonday just followed me #...   \n",
       "41829  panoramascinema                            @whattheshot District 9   \n",
       "41830         tooptoop  happy birthday @tsugimag 🎂 #10ans @laurentgarn...   \n",
       "\n",
       "       favorite_count  retweet_count lang                      created_at  \\\n",
       "0                   0              0   en  Wed Apr 26 13:30:50 +0000 2017   \n",
       "1                   0              0   en  Wed Apr 26 13:30:57 +0000 2017   \n",
       "2                   0              0   en  Wed Apr 26 13:31:00 +0000 2017   \n",
       "3                   0              0   en  Wed Apr 26 13:31:00 +0000 2017   \n",
       "4                   0              0   en  Wed Apr 26 13:31:01 +0000 2017   \n",
       "...               ...            ...  ...                             ...   \n",
       "41826               0              0   en  Sat Apr 29 05:00:37 +0000 2017   \n",
       "41827               0              0   en  Sat Apr 29 05:00:47 +0000 2017   \n",
       "41828               0              0   en  Sat Apr 29 05:01:03 +0000 2017   \n",
       "41829               0              0   en  Sat Apr 29 05:01:42 +0000 2017   \n",
       "41830               0              0   en  Sat Apr 29 05:01:54 +0000 2017   \n",
       "\n",
       "                                             coordinates  \n",
       "0                                                    NaN  \n",
       "1                                                    NaN  \n",
       "2      Row(coordinates=[-0.41666667, 51.25], type='Po...  \n",
       "3                                                    NaN  \n",
       "4                                                    NaN  \n",
       "...                                                  ...  \n",
       "41826     Row(coordinates=[-1.591, 47.98], type='Point')  \n",
       "41827                                                NaN  \n",
       "41828                                                NaN  \n",
       "41829                                                NaN  \n",
       "41830  Row(coordinates=[2.393893, 48.892578], type='P...  \n",
       "\n",
       "[41831 rows x 7 columns]"
      ]
     },
     "execution_count": 40,
     "metadata": {},
     "output_type": "execute_result"
    }
   ],
   "source": [
    "import numpy as np \n",
    "import pandas as pd \n",
    "from wordcloud import WordCloud, STOPWORDS\n",
    "import matplotlib.pyplot as plt \n",
    "plt.style.use('ggplot')\n",
    "\n",
    "df = pd.read_csv('tweets3.csv')\n",
    "df"
   ]
  },
  {
   "cell_type": "code",
   "execution_count": 63,
   "metadata": {},
   "outputs": [
    {
     "data": {
      "text/plain": [
       "Index(['trendinaliaFR', 'LegalKant', 'FORKSTER_2013', 'MeteoThenioux',\n",
       "       'FionaKHunter', 'JasThompson_Fan', 'mikethecraigy', 'lacrevette85',\n",
       "       'TrendsUK', 'TravelAlertsLu'],\n",
       "      dtype='object')"
      ]
     },
     "execution_count": 63,
     "metadata": {},
     "output_type": "execute_result"
    }
   ],
   "source": [
    "most_tweets = df['screen_name'].value_counts(ascending=False).head(10)\n",
    "unique_users = df.groupby('screen_name').count()\n",
    "most_tweets.index"
   ]
  },
  {
   "cell_type": "code",
   "execution_count": 44,
   "metadata": {},
   "outputs": [
    {
     "data": {
      "text/plain": [
       "<AxesSubplot:>"
      ]
     },
     "execution_count": 44,
     "metadata": {},
     "output_type": "execute_result"
    },
    {
     "data": {
      "image/png": "[encoded data removed]",
      "text/plain": [
       "<Figure size 432x288 with 1 Axes>"
      ]
     },
     "metadata": {
      "needs_background": "light"
     },
     "output_type": "display_data"
    }
   ],
   "source": [
    "most_tweets.plot(kind='bar')"
   ]
  },
  {
   "cell_type": "code",
   "execution_count": 71,
   "metadata": {},
   "outputs": [
    {
     "data": {
      "text/plain": [
       "<BarContainer object of 10 artists>"
      ]
     },
     "execution_count": 71,
     "metadata": {},
     "output_type": "execute_result"
    },
    {
     "data": {
      "image/png": "[encoded data removed]",
      "text/plain": [
       "<Figure size 432x288 with 1 Axes>"
      ]
     },
     "metadata": {
      "needs_background": "light"
     },
     "output_type": "display_data"
    }
   ],
   "source": [
    "x = np.arange(len(most_tweets.index))\n",
    "fig, ax = plt.subplots()\n",
    "ax.bar(x, most_tweets)\n",
    "ax.set_"
   ]
  },
  {
   "cell_type": "code",
   "execution_count": null,
   "metadata": {},
   "outputs": [],
   "source": []
  }
 ],
 "metadata": {
  "kernelspec": {
   "display_name": "Python 3",
   "language": "python",
   "name": "python3"
  },
  "language_info": {
   "codemirror_mode": {
    "name": "ipython",
    "version": 3
   },
   "file_extension": ".py",
   "mimetype": "text/x-python",
   "name": "python",
   "nbconvert_exporter": "python",
   "pygments_lexer": "ipython3",
   "version": "3.8.5"
  }
 },
 "nbformat": 4,
 "nbformat_minor": 4
}
