{
 "cells": [
  {
   "cell_type": "code",
   "execution_count": 95,
   "metadata": {},
   "outputs": [
    {
     "name": "stderr",
     "output_type": "stream",
     "text": [
      "/home/stephen/anaconda3/lib/python3.8/site-packages/IPython/core/interactiveshell.py:3145: DtypeWarning: Columns (3) have mixed types.Specify dtype option on import or set low_memory=False.\n",
      "  has_raised = await self.run_ast_nodes(code_ast.body, cell_name,\n"
     ]
    },
    {
     "data": {
      "text/html": [
       "<div>\n",
       "<style scoped>\n",
       "    .dataframe tbody tr th:only-of-type {\n",
       "        vertical-align: middle;\n",
       "    }\n",
       "\n",
       "    .dataframe tbody tr th {\n",
       "        vertical-align: top;\n",
       "    }\n",
       "\n",
       "    .dataframe thead th {\n",
       "        text-align: right;\n",
       "    }\n",
       "</style>\n",
       "<table border=\"1\" class=\"dataframe\">\n",
       "  <thead>\n",
       "    <tr style=\"text-align: right;\">\n",
       "      <th></th>\n",
       "      <th>screen_name</th>\n",
       "      <th>text</th>\n",
       "      <th>favorite_count</th>\n",
       "      <th>retweet_count</th>\n",
       "      <th>lang</th>\n",
       "      <th>created_at</th>\n",
       "      <th>coordinates</th>\n",
       "    </tr>\n",
       "  </thead>\n",
       "  <tbody>\n",
       "    <tr>\n",
       "      <th>0</th>\n",
       "      <td>tainabmn</td>\n",
       "      <td>Je comprends pas trop la fin de 13 reasons why 😓</td>\n",
       "      <td>0.0</td>\n",
       "      <td>0</td>\n",
       "      <td>fr</td>\n",
       "      <td>Wed Apr 26 13:30:45 +0000 2017</td>\n",
       "      <td>NaN</td>\n",
       "    </tr>\n",
       "    <tr>\n",
       "      <th>1</th>\n",
       "      <td>Audran_6</td>\n",
       "      <td>@julesbl99 travailles au lieu de raconter ta vie</td>\n",
       "      <td>0.0</td>\n",
       "      <td>0</td>\n",
       "      <td>fr</td>\n",
       "      <td>Wed Apr 26 13:30:45 +0000 2017</td>\n",
       "      <td>NaN</td>\n",
       "    </tr>\n",
       "    <tr>\n",
       "      <th>2</th>\n",
       "      <td>scorpionrouge21</td>\n",
       "      <td>@lecho_fr @lasaucelleoff J'espère faire mieux ...</td>\n",
       "      <td>0.0</td>\n",
       "      <td>0</td>\n",
       "      <td>fr</td>\n",
       "      <td>Wed Apr 26 13:30:46 +0000 2017</td>\n",
       "      <td>NaN</td>\n",
       "    </tr>\n",
       "    <tr>\n",
       "      <th>3</th>\n",
       "      <td>BenTwenties</td>\n",
       "      <td>362 jours par an je suis adorable, aujourd'hui...</td>\n",
       "      <td>0.0</td>\n",
       "      <td>0</td>\n",
       "      <td>fr</td>\n",
       "      <td>Wed Apr 26 13:30:46 +0000 2017</td>\n",
       "      <td>NaN</td>\n",
       "    </tr>\n",
       "    <tr>\n",
       "      <th>4</th>\n",
       "      <td>Donna_132</td>\n",
       "      <td>@julia71903850 Отличная реклама!</td>\n",
       "      <td>0.0</td>\n",
       "      <td>0</td>\n",
       "      <td>ru</td>\n",
       "      <td>Wed Apr 26 13:30:47 +0000 2017</td>\n",
       "      <td>NaN</td>\n",
       "    </tr>\n",
       "    <tr>\n",
       "      <th>...</th>\n",
       "      <td>...</td>\n",
       "      <td>...</td>\n",
       "      <td>...</td>\n",
       "      <td>...</td>\n",
       "      <td>...</td>\n",
       "      <td>...</td>\n",
       "      <td>...</td>\n",
       "    </tr>\n",
       "    <tr>\n",
       "      <th>214932</th>\n",
       "      <td>Alexsoin_</td>\n",
       "      <td>@TheRealGuigz Mdrr pire sensation de la vie</td>\n",
       "      <td>0.0</td>\n",
       "      <td>0.0</td>\n",
       "      <td>fr</td>\n",
       "      <td>Sat Apr 29 05:01:53 +0000 2017</td>\n",
       "      <td>NaN</td>\n",
       "    </tr>\n",
       "    <tr>\n",
       "      <th>214933</th>\n",
       "      <td>MARCTrublion</td>\n",
       "      <td>AUBRY  DELANOE MADELIN HUE SARKHOSI  BAYROU FI...</td>\n",
       "      <td>0.0</td>\n",
       "      <td>0.0</td>\n",
       "      <td>fr</td>\n",
       "      <td>Sat Apr 29 05:01:53 +0000 2017</td>\n",
       "      <td>NaN</td>\n",
       "    </tr>\n",
       "    <tr>\n",
       "      <th>214934</th>\n",
       "      <td>Japonrugbynet</td>\n",
       "      <td>Go Japan!!! https://t.co/lW3q1VFTS8</td>\n",
       "      <td>0.0</td>\n",
       "      <td>0.0</td>\n",
       "      <td>tl</td>\n",
       "      <td>Sat Apr 29 05:01:54 +0000 2017</td>\n",
       "      <td>NaN</td>\n",
       "    </tr>\n",
       "    <tr>\n",
       "      <th>214935</th>\n",
       "      <td>tooptoop</td>\n",
       "      <td>happy birthday @tsugimag 🎂 #10ans @laurentgarn...</td>\n",
       "      <td>0.0</td>\n",
       "      <td>0.0</td>\n",
       "      <td>en</td>\n",
       "      <td>Sat Apr 29 05:01:54 +0000 2017</td>\n",
       "      <td>Row(coordinates=[2.393893, 48.892578], type='P...</td>\n",
       "    </tr>\n",
       "    <tr>\n",
       "      <th>214936</th>\n",
       "      <td>_stergan_</td>\n",
       "      <td>@queen_ser @RealSneakers_ elles sont dur à avoir</td>\n",
       "      <td>0.0</td>\n",
       "      <td>0.0</td>\n",
       "      <td>fr</td>\n",
       "      <td>Sat Apr 29 05:01:54 +0000 2017</td>\n",
       "      <td>NaN</td>\n",
       "    </tr>\n",
       "  </tbody>\n",
       "</table>\n",
       "<p>214937 rows × 7 columns</p>\n",
       "</div>"
      ],
      "text/plain": [
       "            screen_name                                               text  \\\n",
       "0              tainabmn   Je comprends pas trop la fin de 13 reasons why 😓   \n",
       "1              Audran_6   @julesbl99 travailles au lieu de raconter ta vie   \n",
       "2       scorpionrouge21  @lecho_fr @lasaucelleoff J'espère faire mieux ...   \n",
       "3           BenTwenties  362 jours par an je suis adorable, aujourd'hui...   \n",
       "4             Donna_132                   @julia71903850 Отличная реклама!   \n",
       "...                 ...                                                ...   \n",
       "214932        Alexsoin_        @TheRealGuigz Mdrr pire sensation de la vie   \n",
       "214933     MARCTrublion  AUBRY  DELANOE MADELIN HUE SARKHOSI  BAYROU FI...   \n",
       "214934    Japonrugbynet                Go Japan!!! https://t.co/lW3q1VFTS8   \n",
       "214935         tooptoop  happy birthday @tsugimag 🎂 #10ans @laurentgarn...   \n",
       "214936        _stergan_   @queen_ser @RealSneakers_ elles sont dur à avoir   \n",
       "\n",
       "        favorite_count retweet_count lang                      created_at  \\\n",
       "0                  0.0             0   fr  Wed Apr 26 13:30:45 +0000 2017   \n",
       "1                  0.0             0   fr  Wed Apr 26 13:30:45 +0000 2017   \n",
       "2                  0.0             0   fr  Wed Apr 26 13:30:46 +0000 2017   \n",
       "3                  0.0             0   fr  Wed Apr 26 13:30:46 +0000 2017   \n",
       "4                  0.0             0   ru  Wed Apr 26 13:30:47 +0000 2017   \n",
       "...                ...           ...  ...                             ...   \n",
       "214932             0.0           0.0   fr  Sat Apr 29 05:01:53 +0000 2017   \n",
       "214933             0.0           0.0   fr  Sat Apr 29 05:01:53 +0000 2017   \n",
       "214934             0.0           0.0   tl  Sat Apr 29 05:01:54 +0000 2017   \n",
       "214935             0.0           0.0   en  Sat Apr 29 05:01:54 +0000 2017   \n",
       "214936             0.0           0.0   fr  Sat Apr 29 05:01:54 +0000 2017   \n",
       "\n",
       "                                              coordinates  \n",
       "0                                                     NaN  \n",
       "1                                                     NaN  \n",
       "2                                                     NaN  \n",
       "3                                                     NaN  \n",
       "4                                                     NaN  \n",
       "...                                                   ...  \n",
       "214932                                                NaN  \n",
       "214933                                                NaN  \n",
       "214934                                                NaN  \n",
       "214935  Row(coordinates=[2.393893, 48.892578], type='P...  \n",
       "214936                                                NaN  \n",
       "\n",
       "[214937 rows x 7 columns]"
      ]
     },
     "execution_count": 95,
     "metadata": {},
     "output_type": "execute_result"
    }
   ],
   "source": [
    "import numpy as np \n",
    "import pandas as pd \n",
    "from wordcloud import WordCloud, STOPWORDS\n",
    "import matplotlib.pyplot as plt \n",
    "plt.style.use('ggplot')\n",
    "\n",
    "df = pd.read_csv('tweets3.csv')\n",
    "df"
   ]
  },
  {
   "cell_type": "code",
   "execution_count": 96,
   "metadata": {},
   "outputs": [
    {
     "data": {
      "text/plain": [
       "Index(['focus_regional', 'trendinaliaFR', 'mediasoignant', 'moi_c_yanis',\n",
       "       'franckjt1', 'LegalKant', 'coste51', 'LaLifeDeSoso', 'Sylv33', 'MLLSR'],\n",
       "      dtype='object')"
      ]
     },
     "execution_count": 96,
     "metadata": {},
     "output_type": "execute_result"
    }
   ],
   "source": [
    "most_tweets = df['screen_name'].value_counts(ascending=False).head(10)\n",
    "unique_users = df.groupby('screen_name').count()\n",
    "most_tweets.index"
   ]
  },
  {
   "cell_type": "code",
   "execution_count": 97,
   "metadata": {},
   "outputs": [
    {
     "data": {
      "text/plain": [
       "<AxesSubplot:>"
      ]
     },
     "execution_count": 97,
     "metadata": {},
     "output_type": "execute_result"
    },
    {
     "data": {
      "image/png": "[encoded data removed]",
      "text/plain": [
       "<Figure size 432x288 with 1 Axes>"
      ]
     },
     "metadata": {},
     "output_type": "display_data"
    }
   ],
   "source": [
    "most_tweets.plot(kind='bar')"
   ]
  },
  {
   "cell_type": "code",
   "execution_count": 100,
   "metadata": {},
   "outputs": [
    {
     "data": {
      "image/png": "[encoded data removed]",
      "text/plain": [
       "<Figure size 864x864 with 1 Axes>"
      ]
     },
     "metadata": {},
     "output_type": "display_data"
    }
   ],
   "source": [
    "x = np.arange(len(most_tweets.index))\n",
    "fig, ax = plt.subplots(figsize = (12, 12))\n",
    "ax.bar(x, most_tweets, color='blue')\n",
    "ax.set_xticks(x)\n",
    "ax.set_xticklabels(most_tweets.index, rotation=45)\n",
    "ax.set_title(\"Top 10 Most Active Users\")\n",
    "ax.set_ylabel('# of Tweets');\n",
    "plt.savefig('Top_10_Most_Active_Users')"
   ]
  },
  {
   "cell_type": "code",
   "execution_count": 130,
   "metadata": {},
   "outputs": [
    {
     "data": {
      "text/html": [
       "<div>\n",
       "<style scoped>\n",
       "    .dataframe tbody tr th:only-of-type {\n",
       "        vertical-align: middle;\n",
       "    }\n",
       "\n",
       "    .dataframe tbody tr th {\n",
       "        vertical-align: top;\n",
       "    }\n",
       "\n",
       "    .dataframe thead th {\n",
       "        text-align: right;\n",
       "    }\n",
       "</style>\n",
       "<table border=\"1\" class=\"dataframe\">\n",
       "  <thead>\n",
       "    <tr style=\"text-align: right;\">\n",
       "      <th></th>\n",
       "      <th>screen_name</th>\n",
       "      <th>text</th>\n",
       "      <th>favorite_count</th>\n",
       "      <th>retweet_count</th>\n",
       "      <th>lang</th>\n",
       "      <th>created_at</th>\n",
       "      <th>coordinates</th>\n",
       "    </tr>\n",
       "  </thead>\n",
       "  <tbody>\n",
       "  </tbody>\n",
       "</table>\n",
       "</div>"
      ],
      "text/plain": [
       "Empty DataFrame\n",
       "Columns: [screen_name, text, favorite_count, retweet_count, lang, created_at, coordinates]\n",
       "Index: []"
      ]
     },
     "execution_count": 130,
     "metadata": {},
     "output_type": "execute_result"
    }
   ],
   "source": [
    "df[df['text'].str.contains('#MacronLeak') == True]"
   ]
  },
  {
   "cell_type": "code",
   "execution_count": null,
   "metadata": {},
   "outputs": [],
   "source": []
  }
 ],
 "metadata": {
  "kernelspec": {
   "display_name": "Python 3",
   "language": "python",
   "name": "python3"
  },
  "language_info": {
   "codemirror_mode": {
    "name": "ipython",
    "version": 3
   },
   "file_extension": ".py",
   "mimetype": "text/x-python",
   "name": "python",
   "nbconvert_exporter": "python",
   "pygments_lexer": "ipython3",
   "version": "3.8.5"
  }
 },
 "nbformat": 4,
 "nbformat_minor": 4
}
